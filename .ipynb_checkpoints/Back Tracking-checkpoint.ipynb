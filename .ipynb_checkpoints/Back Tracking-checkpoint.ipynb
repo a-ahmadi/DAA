{
 "cells": [
  {
   "cell_type": "markdown",
   "metadata": {},
   "source": [
    "**Back Tracking branched**\n",
    "\n",
    "**I. Introduction**\n",
    "\n",
    "Backtracking is a systematic method for generating all (or subsets of) combinortial objects.\n",
    "Examples of combinatorial objects include:\n",
    "\n",
    "* Binary strings of n bits\n",
    "* Subsets of a given set E of n elements\n",
    "* Directed graphs of n nodes\n",
    "* Undirected graphs of n nodes\n",
    "* Permutations of a given size n\n",
    "* Hamiltonian cycles of a given graph\n",
    "* K-cliques of a given graph\n",
    "* K-colorings of a given graph\n"
   ]
  },
  {
   "cell_type": "markdown",
   "metadata": {},
   "source": [
    "**II. Formulation of the Problem of Generating Combinatorial Objects**\n",
    "\n",
    "In most of the generation problems, we have:\n",
    "\n",
    "Each object (can be?) is represented by an array X[1:N]\n",
    "\n",
    "The elements of the array are taken from a domain S={a1,a2,...,am}. Often, S is a finite set of successive integers.\n",
    "\n",
    "The values of array X must satisfy some constraints C so that X represents a legitimate object of the type in question.\n",
    "\n",
    "We will show the specifics in each of the following instances of combinatorial object generation"
   ]
  },
  {
   "cell_type": "markdown",
   "metadata": {},
   "source": [
    "**Problem 1: Generation of all n-bit binary strings**\n",
    "\n",
    "Every n-bit binary string is represented by an array X[1:n]\n",
    "X[i] takes its values from {0,1}\n",
    "The constrainst C are empty because the values of the individual bits are indepedent\n",
    "\n",
    "**Problem 2: Generation of all subsets of the set {1,2,...,n}**\n",
    "\n",
    "Every subset is represented by the bitmap (i.e., Boolean array) X[1:n];\n",
    "X[i] takes its values from {0,1}. \n",
    "X[i]=1 if i is in the subset being represented; \n",
    "X[i]=0 if i is not in the subset being represented.\n",
    "The constrainst C are empty because whether i is an element of the subset has no bearing on whether or not j is an element of the subset.\n",
    "\n",
    "**Problem 3: Generation of all directed graphs of n nodes**\n",
    "\n",
    "Every digraph of n nodes is representable by a 2D array A[1:n,1:n], which is the well-known adjacency matrix.\n",
    "The values of the entries in the array are binary and also are independent of one another.\n",
    "The 2D array can be represented by a a 1D binary array X[1:N] where N=n2\n",
    "The value of each X[i] is in {0,1}\n",
    "The constraints C are empty because the values of entries of X (which are the entries of A) are independent\n",
    "Mapping from A to X: Stack the rows of A one after another. Thus,\n",
    "X[(i-1)n + j] = A[i,j]\n",
    "\n",
    "**Problem 4: Generation of all undirected graphs of n nodes**\n",
    "\n",
    "Every graph of n nodes is also representable by the 2D adjacency matrix A[1:n,1:n].\n",
    "The values of the entries in the array are binary but are not independent of one another:\n",
    "A[i,j] = A[j,i] for all i and j\n",
    "Which is the symmetry contraint (or property)\n",
    "The 2D array can be represented by a a 1D binary array X[1:N] where N=n2, like in the case of directed graphs, but this time with the symmetry constraint.\n",
    "A preferable alternative is to only represent the upper triangle only, and thus eliminate the constraints as follows.\n",
    "Map the upper triangle of A into a 1D binary array X[1:N], N=n(n-1)/2:\n",
    "A[1,2:n] goes first into X \n",
    "A[2,3:n] goes next into X \n",
    "A[3,4:n] goes next into X \n",
    ".\t\n",
    ".\t\n",
    ".\t\n",
    "A[n-1,n] goes last into X\n",
    "The value of each X[i] is in {0,1}\n",
    "The constraints C are back to being empty.\n",
    "\n",
    "**Problem 5: Generation of all permutations of {1,2,...,n}**\n",
    "\n",
    "A permutation is a one-to-one and onto mapping (function) f from {1,2,...,n} to {1,2,...,n}. The mapping of element i is denoted f(i).\n",
    "Another definition: A permutation is a re-ordering (re-arrangement) of the elements 1,2,...,n\n",
    "A third defintion: A permutation is a one-to-one matching. i is said to be matched with f(i).\n",
    "A permutation f can be represented by an array X[1:n] where X[i]=f(i).\n",
    "X[i] takes its elements from {1,2,...,n}\n",
    "Constraints: X[i] != X[j] for all i != j\n",
    "\n",
    "**Problem 6: Generation of all Hamiltonian cycles in a given graph G=(V,E) of n nodes**\n",
    "A Hamiltonian cycle is a cycle that goes through every node of the graph exactly once. Note that not all graphs have Hamiltonian cycles.\n",
    "A Hamiltonian cycle can be represented by an array X[1:n] where X[i] is the label of the i-th node in the cycle.\n",
    "Each X[i] takes its elements from {1,2,...,n}, which are the labels of the nodes.\n",
    "Constraints:\n",
    "X[i] != X[j] for all i != j\n",
    "(X[i],X[i+1]) is an edge for every i=1,2,...n-1, and (X[n],X[1]) is also an edge.\n",
    "Problem 7: Generation of all k-cliques in a given graph G=(V,E) of n nodes, where k is an integer, 1 <= k <= n\n",
    "A k-clique in a graph G is a subset of k nodes where every pair of those nodes are adjacent in G.\n",
    "A k-clique is representable by an array X[1:k], where X[i] is the label of the i-th node in the k-clique.\n",
    "Each X[i] takes its elements from {1,2,...,n}, which are the labels of the nodes.\n",
    "Constraints:\n",
    "X[i] != X[j] for all i != j\n",
    "(X[i],X[j]) is an edge for every i and j\n",
    "\n",
    "**Problem 8: Generation of all k-colorings of a given graph G=(V,E) of n nodes, where k is an integer, 1 <= k <= n**\n",
    "\n",
    "A k-coloring of G is an assignment of a color to each node in such a way that every two neighboring nodes have distinct colors, and the total number of colors used is <= k. The colors can be conveniently labeled 1,2,...,k.\n",
    "A k-coloring can be represented by an array X[1:n] where X[i] is the color of node i.\n",
    "Each X[i] takes its values from the set of colors {1,2,...,k}\n",
    "Constraints: If (i,j) is an edge in G, then X[i] != X[j]"
   ]
  },
  {
   "cell_type": "markdown",
   "metadata": {},
   "source": [
    "**III. The General Backtracking Algorithm**\n",
    "\n",
    "The algorithm will generate all valid arrays X[1:N] whose elements come from the domain S={a1,a2,...,am} of successive integers, such that the constraints C are satisfied.\n",
    "\n",
    "The algorithm is a depth-first search like traversal (or generation) of the tree that represents the entire solution space.\n",
    "\n",
    "In the tree, the root designates the starting point, and every path from the root to a leaf is of length N, where the i-th node in level specifies a value for element X[i]. The whole path corresponds to the whole array and represents a single solution, that is, a single object.\n",
    "\n",
    "During the generation of the tree, when we are to create a new node corresponding to X[i], we try to assign X[i] a new the next domain value (given the current value of X[i] as reference). \n",
    "If that value does not violate the constraints C, it is assigned.\n",
    "\n",
    "If, on the other hand, that value violates C, the next value after that is tried, and so on until either a C-compliant value is found or all remaining values are exhausted.\n",
    "\n",
    "If a C-compliant value is found and assigned to X[i], we move to the next level to find a value for X[i+1].\n",
    "\n",
    "If no C-compliant remaining value is found for X[i], we backtrack to the previous level to find a new value for X[i-1].\n",
    "\n",
    "When we backtrack to the root, the whole tree has been fully generated, and the algorithm stops.\n",
    "\n",
    "Whenever a C-compliant value for X[n] is found, a complete new object has been generated, and the path from the root to that node corresponding to X[n] is printed out as the object.\n",
    "Note that in the algorithm, when a new node and a new value for X[i] is being generated, the values that are tried are the \"next\" values from a reference value, which is the current value of X[i].\n",
    "At the outset, the reference value is initialized be a value a0 = a1 - 1.\n",
    "\n",
    "That way, the next value is always the reference (current) value + 1."
   ]
  },
  {
   "cell_type": "raw",
   "metadata": {},
   "source": [
    "Procedure Backtrack()\n",
    "begin\n",
    "   Integer r := 1;  -- r is the tree level, or index of X\n",
    "   Integer X[1:N];\n",
    "\n",
    "   for i=1 to N do \n",
    "      X[i] := a0;\n",
    "   endfor\n",
    "\n",
    "   while r > 0 do \n",
    "      getnext(X,r);   -- assigns to X[r] its next \n",
    "\t\t      -- C-compliant value, if available.\n",
    "\t\t      -- Otherwise, it re-initlizes X[r] \n",
    "\t\t      -- to a0\n",
    "      if (X[r] = a0) then\n",
    "      \t r := r-1; -- backtrack to the previous level\n",
    "      elseif r=n\n",
    "\t print(X[1:N]); -- a new complete solution\n",
    "      else\n",
    "\t r := r+1; -- move to the next level for X[r+1]\n",
    "      endif\n",
    "   endwhile\n",
    "end"
   ]
  },
  {
   "cell_type": "code",
   "execution_count": 22,
   "metadata": {
    "collapsed": false
   },
   "outputs": [
    {
     "name": "stdout",
     "output_type": "stream",
     "text": [
      "The initial state of X is : [-1, -1, -1, -1, -1, -1, -1, -1, -1, -1]\n"
     ]
    }
   ],
   "source": [
    "#Backtracking\n",
    "\n",
    "def getNext(X,r):\n",
    "    return\n",
    "\n",
    "def Bound(X,r):\n",
    "    return \n",
    "\n",
    "r=1      #r is the tree level, or index of X. \n",
    "X=[]     #X represent one instance of the permutable object \n",
    "a0=-1    # this is an initial value for elements of X. pick something that tells\n",
    "         #       this element has not been assigned yet\n",
    "N = 10   # Size of the array. change based on your problem    \n",
    "\n",
    "for i in range(0,10):\n",
    "    X.append(a0)\n",
    "    \n",
    "print \"The initial state of X is : \" + str(X)\n",
    "    \n",
    "while r>0:\n",
    "    getNext(X,r)\n",
    "    if (X[r]==a0):\n",
    "        r=r-1\n",
    "    elif r==N:\n",
    "        print \"found a solution: \" + (X)\n",
    "    else:\n",
    "        r=r+1\n",
    "    "
   ]
  },
  {
   "cell_type": "raw",
   "metadata": {},
   "source": [
    "Procedure getnext(input/output: X[1:N]; input: r)\n",
    "begin\n",
    "   X[r] := X[r] + 1;\t-- next tentative value\n",
    "   while (X[r] is still in the domain) do \t\n",
    "      if (Bound(X[1:N],r) is true) then\n",
    "\t return;\n",
    "      else\n",
    "\t X[r] := X[r] + 1;\n",
    "      endif\n",
    "   endwhile\n",
    "\n",
    "   -- if getnext has not returned,\n",
    "   -- that mean no C-compliant remaining\n",
    "   -- value was found. Re-initialize X[r]\n",
    "   X[r] := a0;\n",
    "end"
   ]
  },
  {
   "cell_type": "code",
   "execution_count": 1,
   "metadata": {
    "collapsed": true
   },
   "outputs": [],
   "source": [
    "def getNext(X,r):\n",
    "    X[r]=X[r]+1\n",
    "    while X[r] <=99:  #while X[r] is in domian. here is less than 99. customize for your problem\n",
    "        if Bound(X,r)==True :\n",
    "            return\n",
    "        else:\n",
    "            X[r]=X[r] +1 \n",
    "    \n",
    "    X[r]=a0\n",
    "    "
   ]
  },
  {
   "cell_type": "markdown",
   "metadata": {},
   "source": [
    "The Bound function checks to see if the constraints C are sastified. \n",
    "** The actual implementation of the Bound function is problem-dependent.**\n",
    "\n",
    "In every backtracking problem, you need to do the following:\n",
    "\n",
    "* Represent the object by an array X[1:N]\n",
    "* specifying N\n",
    "* what each X[i] signifies\n",
    "* what the domain of each X[i] is\n",
    "* the value of a0 \n",
    "* the constraints C\n",
    "* Implement the Bound function"
   ]
  },
  {
   "cell_type": "code",
   "execution_count": null,
   "metadata": {
    "collapsed": true
   },
   "outputs": [],
   "source": []
  }
 ],
 "metadata": {
  "kernelspec": {
   "display_name": "Python 2",
   "language": "python",
   "name": "python2"
  },
  "language_info": {
   "codemirror_mode": {
    "name": "ipython",
    "version": 2
   },
   "file_extension": ".py",
   "mimetype": "text/x-python",
   "name": "python",
   "nbconvert_exporter": "python",
   "pygments_lexer": "ipython2",
   "version": "2.7.11"
  }
 },
 "nbformat": 4,
 "nbformat_minor": 0
}
