{
 "cells": [
  {
   "cell_type": "markdown",
   "metadata": {},
   "source": [
    "**II. Formulation of the Problem of Generating Combinatorial Objects**\n",
    "\n",
    "In most of the generation problems, we have:\n",
    "\n",
    "Each object (can be?) is represented by an array X[1:N]\n",
    "\n",
    "The elements of the array are taken from a domain S={a1,a2,...,am}. Often, S is a finite set of successive integers.\n",
    "\n",
    "The values of array X must satisfy some constraints C so that X represents a legitimate object of the type in question.\n",
    "\n",
    "We will show the specifics in each of the following instances of combinatorial object generation"
   ]
  },
  {
   "cell_type": "markdown",
   "metadata": {},
   "source": [
    "**Problem 2: Generation of all subsets of the set {1,2,...,n}**\n",
    "\n",
    "* Every subset is represented by the bitmap (i.e., Boolean array) X[1:n]\n",
    "* X[i] takes its values from {0,1}\n",
    "* X[i]=1 if i is in the subset being represented\n",
    "* X[i]=0 if i is not in the subset being represented\n",
    "* The constrainst C are empty because whether i is an element of the subset has no bearing on whether or not j is an element of the subset."
   ]
  },
  {
   "cell_type": "code",
   "execution_count": 2,
   "metadata": {
    "collapsed": true
   },
   "outputs": [],
   "source": [
    "def Bound(X,r):\n",
    "    return True   #Constraint set is empty. set members are independent of each other. One \n",
    "                  # included in a subset has no impact on another one being included or not."
   ]
  },
  {
   "cell_type": "code",
   "execution_count": 7,
   "metadata": {
    "collapsed": true
   },
   "outputs": [],
   "source": [
    "def getNext(X,r):\n",
    "    X[r]=X[r]+1\n",
    "    while X[r] <=1:  #while X[r] is in domian. Here is 0 and 1\n",
    "        if Bound(X,r)==True :\n",
    "            return\n",
    "        else:\n",
    "            X[r]=X[r] +1 \n",
    "    \n",
    "    X[r]=a0"
   ]
  },
  {
   "cell_type": "code",
   "execution_count": 11,
   "metadata": {
    "collapsed": false
   },
   "outputs": [
    {
     "name": "stdout",
     "output_type": "stream",
     "text": [
      "Enter the size of your set:3\n",
      "The initial state of X is : [-1, -1, -1]\n",
      "found a solution: [0, 0, 0]\n",
      "found a solution: [0, 0, 1]\n",
      "found a solution: [0, 1, 0]\n",
      "found a solution: [0, 1, 1]\n",
      "found a solution: [1, 0, 0]\n",
      "found a solution: [1, 0, 1]\n",
      "found a solution: [1, 1, 0]\n",
      "found a solution: [1, 1, 1]\n"
     ]
    }
   ],
   "source": [
    "#Backtracking\n",
    "\n",
    "r=0      #r is the tree level, or index of X. \n",
    "X=[]     #X represent one instance of the permutable object \n",
    "a0=-1    # this is an initial value for elements of X. pick something that tells\n",
    "         #       this element has not been assigned yet\n",
    "N = int(raw_input(\"Enter the size of your set:\"))   # Size of the array. change based on your problem    \n",
    "\n",
    "for i in range(0,N):\n",
    "    X.append(a0)\n",
    "    \n",
    "print \"The initial state of X is : \" + str(X)\n",
    "    \n",
    "while r>-1:\n",
    "    getNext(X,r)\n",
    "    if (X[r]==a0):\n",
    "        r=r-1\n",
    "    elif r==N-1:\n",
    "        print \"found a solution: \" + str(X)\n",
    "    else:\n",
    "        r=r+1\n",
    "    "
   ]
  },
  {
   "cell_type": "code",
   "execution_count": 1,
   "metadata": {
    "collapsed": true
   },
   "outputs": [],
   "source": [
    "\n",
    "    "
   ]
  },
  {
   "cell_type": "code",
   "execution_count": null,
   "metadata": {
    "collapsed": true
   },
   "outputs": [],
   "source": []
  }
 ],
 "metadata": {
  "kernelspec": {
   "display_name": "Python 2",
   "language": "python",
   "name": "python2"
  },
  "language_info": {
   "codemirror_mode": {
    "name": "ipython",
    "version": 2
   },
   "file_extension": ".py",
   "mimetype": "text/x-python",
   "name": "python",
   "nbconvert_exporter": "python",
   "pygments_lexer": "ipython2",
   "version": "2.7.11"
  }
 },
 "nbformat": 4,
 "nbformat_minor": 0
}
