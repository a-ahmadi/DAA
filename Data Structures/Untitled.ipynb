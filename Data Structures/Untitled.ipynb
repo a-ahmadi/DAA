{
 "cells": [
  {
   "cell_type": "markdown",
   "metadata": {},
   "source": [
    "A stack is a data structure S that supports three operations: \n",
    "\n",
    "* Push (S,a)\n",
    "* Pop(S)\n",
    "* Top(S)\n",
    "\n",
    "The pushing (insertion) and popping (detetion) are done at one and the same end of the stack, namely, its top."
   ]
  },
  {
   "cell_type": "code",
   "execution_count": 15,
   "metadata": {
    "collapsed": true
   },
   "outputs": [],
   "source": [
    "#Stack push implementation using pythin lists\n",
    "def Push(S,a):\n",
    "    #appending to the list --> appends at the end of the list \n",
    "    S.append(a)\n",
    "    return\n"
   ]
  },
  {
   "cell_type": "code",
   "execution_count": 94,
   "metadata": {
    "collapsed": true
   },
   "outputs": [],
   "source": [
    "# stack pop \n",
    "def Pop(S):\n",
    "    if len(S)==0:\n",
    "        return None\n",
    "    temp=S[len(S)-1]\n",
    "    S.remove(temp)\n",
    "    return temp"
   ]
  },
  {
   "cell_type": "code",
   "execution_count": 95,
   "metadata": {
    "collapsed": true
   },
   "outputs": [],
   "source": [
    "#stack Top\n",
    "def Top(S):\n",
    "    if len(S)==0:\n",
    "        return None\n",
    "    else:\n",
    "        return S[len(S)-1]\n",
    "        "
   ]
  }
 ],
 "metadata": {
  "kernelspec": {
   "display_name": "Python 2",
   "language": "python",
   "name": "python2"
  },
  "language_info": {
   "codemirror_mode": {
    "name": "ipython",
    "version": 2
   },
   "file_extension": ".py",
   "mimetype": "text/x-python",
   "name": "python",
   "nbconvert_exporter": "python",
   "pygments_lexer": "ipython2",
   "version": "2.7.11"
  }
 },
 "nbformat": 4,
 "nbformat_minor": 0
}
