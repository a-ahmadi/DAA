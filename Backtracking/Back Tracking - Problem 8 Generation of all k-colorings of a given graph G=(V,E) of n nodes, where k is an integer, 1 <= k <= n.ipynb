{
 "cells": [
  {
   "cell_type": "markdown",
   "metadata": {},
   "source": [
    "**II. Formulation of the Problem of Generating Combinatorial Objects**\n",
    "\n",
    "In most of the generation problems, we have:\n",
    "\n",
    "Each object (can be?) is represented by an array X[1:N]\n",
    "\n",
    "The elements of the array are taken from a domain S={a1,a2,...,am}. Often, S is a finite set of successive integers.\n",
    "\n",
    "The values of array X must satisfy some constraints C so that X represents a legitimate object of the type in question.\n",
    "\n",
    "We will show the specifics in each of the following instances of combinatorial object generation"
   ]
  },
  {
   "cell_type": "markdown",
   "metadata": {},
   "source": [
    "**Problem 8: Generation of all k-colorings of a given graph G=(V,E) of n nodes, where k is an integer, 1 <= k <= n**\n",
    "* A k-coloring of G is an assignment of a color to each node in such a way that every two neighboring nodes have distinct colors, and the total number of colors used is <= k. The colors can be conveniently labeled 1,2,...,k.\n",
    "* A k-coloring can be represented by an array X[1:n] where X[i] is the color of node i.\n",
    "* Each X[i] takes its values from the set of colors {1,2,...,k}\n",
    "\n",
    "Constraints: \n",
    "* If (i,j) is an edge in G, then X[i] != X[j]"
   ]
  },
  {
   "cell_type": "code",
   "execution_count": 6,
   "metadata": {
    "collapsed": true
   },
   "outputs": [],
   "source": [
    "import numpy as np\n",
    "import networkx as nx\n",
    "import matplotlib.pyplot as plt\n",
    "%matplotlib inline \n",
    "\n",
    "def loadADJ(N):\n",
    "    #load the AJD matrix from a txt file into an array an return it\n",
    "    #we are using random num generation for now to make it work simple\n",
    "    ADJ = np.random.choice([0,1],(N,N))\n",
    "    print \"Generating a random \" + str(N) + \" * \" + str(N)+\" directed adjacency Graph.\\n The Input Matrix: \"\n",
    "    print ADJ\n",
    "    G=nx.MultiDiGraph(ADJ)\n",
    "    nx.draw(G,nodecolor='r',edge_color='b',with_labels=True)\n",
    "    plt.show()\n",
    "    return ADJ\n",
    "    \n",
    "    "
   ]
  },
  {
   "cell_type": "code",
   "execution_count": 7,
   "metadata": {
    "collapsed": true
   },
   "outputs": [],
   "source": [
    "def isEdge(node1,node2):\n",
    "    #checks the ADJ matric to verify if (node1,node2) is an edge. for this probelm an edge in any direction is fine\n",
    "    if ADJ[node1][node2]==1 or ADJ[node2][node1]==1:\n",
    "        return True\n",
    "    else:\n",
    "        return False"
   ]
  },
  {
   "cell_type": "code",
   "execution_count": 12,
   "metadata": {
    "collapsed": true
   },
   "outputs": [],
   "source": [
    "def Bound(X,r):\n",
    "    #print \"current state of X and r is \" + str(X) + \" -- r:\" + str(r)\n",
    "    for i in range(0,r):     #elements 0 to r-1 have been set. we are checking for element r\n",
    "        if isEdge(i,r) and X[i]==X[r]:\n",
    "            #line below is for debugging\n",
    "            #print X[i],X[r],isEdge(X[i],X[r])\n",
    "            return False\n",
    "    return True\n",
    "        "
   ]
  },
  {
   "cell_type": "code",
   "execution_count": 13,
   "metadata": {
    "collapsed": true
   },
   "outputs": [],
   "source": [
    "def getNext(X,r):\n",
    "    X[r]=X[r]+1\n",
    "    while X[r] <=K-1:  #while X[r] is in domian; here the domain is [0..K-1]: K possible colors\n",
    "        if Bound(X,r)==True :\n",
    "            return\n",
    "        else:\n",
    "            X[r]=X[r] +1 \n",
    "    \n",
    "    X[r]=a0 "
   ]
  },
  {
   "cell_type": "code",
   "execution_count": 14,
   "metadata": {
    "collapsed": false
   },
   "outputs": [
    {
     "name": "stdout",
     "output_type": "stream",
     "text": [
      "Enter the total number of nodes in the Graph: 5\n",
      "Enter K, the number of colors: 3\n",
      "Generating a random 5 * 5 directed adjacency Graph.\n",
      " The Input Matrix: \n",
      "[[0 1 1 1 1]\n",
      " [0 1 1 1 1]\n",
      " [0 0 0 1 0]\n",
      " [1 1 1 0 1]\n",
      " [0 1 1 1 0]]\n"
     ]
    },
    {
     "data": {
      "image/png": "[encoded data removed]",
      "text/plain": [
       "<matplotlib.figure.Figure at 0x11d18fa90>"
      ]
     },
     "metadata": {},
     "output_type": "display_data"
    },
    {
     "name": "stdout",
     "output_type": "stream",
     "text": [
      "The initial state of X is : [-1, -1, -1, -1, -1]\n",
      "This graph has no 3 coloring\n"
     ]
    }
   ],
   "source": [
    "### Backtracking\n",
    "import numpy as np\n",
    "\n",
    "r=0     #r is the tree level, or index of X. \n",
    "X=[]     #X represent one instance of a Hamiltonian cycle in the graph \n",
    "a0=-1    # this is an initial value for elements of X. pick something that tells\n",
    "         #       this element has not been assigned yet\n",
    "N = int(raw_input(\"Enter the total number of nodes in the Graph: \"))  # Size of the array. change based on your problem \n",
    "K = int(raw_input(\"Enter K, the number of colors: \"))\n",
    "ADJ = loadADJ(N)        # this function creates an ADJ matric from a txt file or random number generation\n",
    "\n",
    "\n",
    "for i in range(0,N):\n",
    "    X.append(a0)\n",
    "    \n",
    "print \"The initial state of X is : \" + str(X)\n",
    "found = False\n",
    "    \n",
    "while r>-1:\n",
    "    getNext(X,r)\n",
    "    if (X[r]==a0):\n",
    "        r=r-1\n",
    "    elif r==N-1:\n",
    "        print \"found a solution: \" + str(X)\n",
    "        #trying to show a grpah coloring: use different colots for different nodes\n",
    "        #G=nx.MultiDiGraph(ADJ)\n",
    "        #nx.draw(G,nodecolor='r',edge_color='b',with_labels=True)\n",
    "        #plt.show()\n",
    "        found = True\n",
    "    else:\n",
    "        r=r+1\n",
    "\n",
    "if not found:\n",
    "    \n",
    "    print \"This graph has no \" + str(K) + \" coloring\""
   ]
  },
  {
   "cell_type": "code",
   "execution_count": null,
   "metadata": {
    "collapsed": true
   },
   "outputs": [],
   "source": []
  }
 ],
 "metadata": {
  "kernelspec": {
   "display_name": "Python 2",
   "language": "python",
   "name": "python2"
  },
  "language_info": {
   "codemirror_mode": {
    "name": "ipython",
    "version": 2
   },
   "file_extension": ".py",
   "mimetype": "text/x-python",
   "name": "python",
   "nbconvert_exporter": "python",
   "pygments_lexer": "ipython2",
   "version": "2.7.11"
  }
 },
 "nbformat": 4,
 "nbformat_minor": 0
}
