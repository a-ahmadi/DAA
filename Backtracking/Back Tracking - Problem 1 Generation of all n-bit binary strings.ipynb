{
 "cells": [
  {
   "cell_type": "markdown",
   "metadata": {},
   "source": [
    "**II. Formulation of the Problem of Generating Combinatorial Objects**\n",
    "\n",
    "In most of the generation problems, we have:\n",
    "\n",
    "Each object (can be?) is represented by an array X[1:N]\n",
    "\n",
    "The elements of the array are taken from a domain S={a1,a2,...,am}. Often, S is a finite set of successive integers.\n",
    "\n",
    "The values of array X must satisfy some constraints C so that X represents a legitimate object of the type in question.\n",
    "\n",
    "We will show the specifics in each of the following instances of combinatorial object generation"
   ]
  },
  {
   "cell_type": "markdown",
   "metadata": {},
   "source": [
    "**Problem 1: Generation of all n-bit binary strings**\n",
    "\n",
    "* Every n-bit binary string is represented by an array X[1:n]\n",
    "* X[i] takes its values from {0,1}\n",
    "* The constrainst C are empty because the values of the individual bits are indepedent\n",
    "\n"
   ]
  },
  {
   "cell_type": "markdown",
   "metadata": {},
   "source": [
    "Define the Bound function:"
   ]
  },
  {
   "cell_type": "code",
   "execution_count": 37,
   "metadata": {
    "collapsed": true
   },
   "outputs": [],
   "source": [
    "def Bound(X,r):\n",
    "    return True    # Bound always retrns true becasue there is no constrain on each element from\n",
    "                   # another one\n",
    "    "
   ]
  },
  {
   "cell_type": "code",
   "execution_count": 38,
   "metadata": {
    "collapsed": true
   },
   "outputs": [],
   "source": [
    "def getNext(X,r):\n",
    "    X[r]=X[r]+1\n",
    "    while X[r] <=1:  #while X[r] is in domian. here the domain is 0 and 1\n",
    "        if Bound(X,r)==True :\n",
    "            return\n",
    "        else:\n",
    "            X[r]=X[r] +1 \n",
    "    \n",
    "    X[r]=a0"
   ]
  },
  {
   "cell_type": "code",
   "execution_count": 40,
   "metadata": {
    "collapsed": false
   },
   "outputs": [
    {
     "name": "stdout",
     "output_type": "stream",
     "text": [
      "Enter the size of N:3\n",
      "The initial state of X is : [-1, -1, -1]\n",
      "found a solution: [0, 0, 0]\n",
      "[0, 0, 0]\n",
      "found a solution: [0, 0, 1]\n",
      "[0, 0, 1]\n",
      "found a solution: [0, 1, 0]\n",
      "[0, 1, 0]\n",
      "found a solution: [0, 1, 1]\n",
      "[0, 1, 1]\n",
      "found a solution: [1, 0, 0]\n",
      "[1, 0, 0]\n",
      "found a solution: [1, 0, 1]\n",
      "[1, 0, 1]\n",
      "found a solution: [1, 1, 0]\n",
      "[1, 1, 0]\n",
      "found a solution: [1, 1, 1]\n",
      "[1, 1, 1]\n",
      "Found 8 solutions!\n",
      "['[0, 0, 0]', '[0, 0, 1]', '[0, 1, 0]', '[0, 1, 1]', '[1, 0, 0]', '[1, 0, 1]', '[1, 1, 0]', '[1, 1, 1]']\n"
     ]
    }
   ],
   "source": [
    "#Backtracking\n",
    "\n",
    "\n",
    "\n",
    "r=0     #r is the tree level, or index of X. \n",
    "X=[]     #X represent one instance of the permutable object \n",
    "a0=-1    # this is an initial value for elements of X. pick something that tells\n",
    "         #       this element has not been assigned yet\n",
    "N=int(raw_input('Enter the size of N:'))    # length of desired binary Permutations    \n",
    "solutions=[]\n",
    "count=0\n",
    "\n",
    "for i in range(0,N):\n",
    "    X.append(a0)\n",
    "    \n",
    "print \"The initial state of X is : \" + str(X)\n",
    "    \n",
    "while r>-1:\n",
    "    getNext(X,r)\n",
    "    if (X[r]==a0):\n",
    "        r=r-1\n",
    "    elif r==N-1:\n",
    "        print \"found a solution: \" + str(X)\n",
    "        print X\n",
    "        solutions.append(str(X))\n",
    "        count = count + 1\n",
    "    else:\n",
    "        r=r+1\n",
    "\n",
    "print \"Found \" + str(count) + \" solutions!\"        \n",
    "print solutions"
   ]
  },
  {
   "cell_type": "code",
   "execution_count": null,
   "metadata": {
    "collapsed": true
   },
   "outputs": [],
   "source": [
    "\n",
    "    "
   ]
  },
  {
   "cell_type": "code",
   "execution_count": null,
   "metadata": {
    "collapsed": true
   },
   "outputs": [],
   "source": []
  }
 ],
 "metadata": {
  "kernelspec": {
   "display_name": "Python 2",
   "language": "python",
   "name": "python2"
  },
  "language_info": {
   "codemirror_mode": {
    "name": "ipython",
    "version": 2
   },
   "file_extension": ".py",
   "mimetype": "text/x-python",
   "name": "python",
   "nbconvert_exporter": "python",
   "pygments_lexer": "ipython2",
   "version": "2.7.11"
  }
 },
 "nbformat": 4,
 "nbformat_minor": 0
}
