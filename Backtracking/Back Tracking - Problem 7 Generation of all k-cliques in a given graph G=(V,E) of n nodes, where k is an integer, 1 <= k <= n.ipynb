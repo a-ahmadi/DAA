{
 "cells": [
  {
   "cell_type": "markdown",
   "metadata": {},
   "source": [
    "**II. Formulation of the Problem of Generating Combinatorial Objects**\n",
    "\n",
    "In most of the generation problems, we have:\n",
    "\n",
    "Each object (can be?) is represented by an array X[1:N]\n",
    "\n",
    "The elements of the array are taken from a domain S={a1,a2,...,am}. Often, S is a finite set of successive integers.\n",
    "\n",
    "The values of array X must satisfy some constraints C so that X represents a legitimate object of the type in question.\n",
    "\n",
    "We will show the specifics in each of the following instances of combinatorial object generation"
   ]
  },
  {
   "cell_type": "markdown",
   "metadata": {},
   "source": [
    "**Problem 7: Generation of all k-cliques in a given graph G=(V,E) of n nodes, where k is an integer, 1 <= k <= n**\n",
    "* A k-clique in a graph G is a subset of k nodes where every pair of those nodes are adjacent in G.\n",
    "* A k-clique is representable by an array X[1:k], where X[i] is the label of the i-th node in the k-clique.\n",
    "* Each X[i] takes its elements from {1,2,...,n}, which are the labels of the nodes.\n",
    "\n",
    "Constraints:\n",
    "* X[i] != X[j] for all i != j\n",
    "* (X[i],X[j]) is an edge for every i and j"
   ]
  },
  {
   "cell_type": "code",
   "execution_count": 1,
   "metadata": {
    "collapsed": true
   },
   "outputs": [],
   "source": [
    "import numpy as np\n",
    "import networkx as nx\n",
    "import matplotlib.pyplot as plt\n",
    "%matplotlib inline \n",
    "\n",
    "def loadADJ(N):\n",
    "    #load the AJD matrix from a txt file into an array an return it\n",
    "    #we are using random num generation for now to make it work simple\n",
    "    ADJ = np.random.choice([0,1],(N,N))\n",
    "    print \"Generating a random \" + str(N) + \" * \" + str(N)+\" directed adjacency Graph.\\n The Input Matrix: \"\n",
    "    print ADJ\n",
    "    G=nx.MultiDiGraph(ADJ)\n",
    "    nx.draw(G,nodecolor='r',edge_color='b',with_labels=True)\n",
    "    plt.show()\n",
    "    return ADJ\n",
    "    \n",
    "    "
   ]
  },
  {
   "cell_type": "code",
   "execution_count": 2,
   "metadata": {
    "collapsed": true
   },
   "outputs": [],
   "source": [
    "def isEdge(node1,node2):\n",
    "    #checks the ADJ matric to verify if (node1,node2) is an edge. for a directed graph, we check both directions \n",
    "    #print a,b,ADJ[_from][_to]\n",
    "    if ADJ[node1][node2]==1 and ADJ[node2][node1]==1:\n",
    "        return True\n",
    "    else:\n",
    "        return False"
   ]
  },
  {
   "cell_type": "code",
   "execution_count": 3,
   "metadata": {
    "collapsed": true
   },
   "outputs": [],
   "source": [
    "def Bound(X,r):\n",
    "    #print \"current state of X and r is \" + str(X) + \" -- r:\" + str(r)\n",
    "    for i in range(0,r):                #elements 0 to r-1 have been set. we are checking for element r\n",
    "        if X[i]==X[r]:\n",
    "            return False\n",
    "        if isEdge(X[i],X[r])==False:\n",
    "            return False\n",
    "    \n",
    "    return True\n",
    "        "
   ]
  },
  {
   "cell_type": "code",
   "execution_count": 4,
   "metadata": {
    "collapsed": true
   },
   "outputs": [],
   "source": [
    "def getNext(X,r,N):\n",
    "    X[r]=X[r]+1\n",
    "    while X[r] <=N-1:  #while X[r] is in domian; here the domain is [0..N-1]: all the nodes in the graph\n",
    "        if Bound(X,r)==True :\n",
    "            return\n",
    "        else:\n",
    "            X[r]=X[r] +1 \n",
    "    \n",
    "    X[r]=a0 "
   ]
  },
  {
   "cell_type": "code",
   "execution_count": 7,
   "metadata": {
    "collapsed": false
   },
   "outputs": [
    {
     "name": "stdout",
     "output_type": "stream",
     "text": [
      "Enter the total number of nodes in the Graph: 7\n",
      "Enter K, the size of K cliques: 3\n",
      "Generating a random 7 * 7 directed adjacency Graph.\n",
      " The Input Matrix: \n",
      "[[1 0 1 0 1 1 1]\n",
      " [0 0 0 0 1 1 1]\n",
      " [1 0 0 1 1 1 1]\n",
      " [0 1 1 1 1 1 1]\n",
      " [1 1 1 1 1 0 0]\n",
      " [1 0 1 0 0 0 1]\n",
      " [1 1 0 0 1 0 1]]\n"
     ]
    },
    {
     "data": {
      "image/png": "[encoded data removed]",
      "text/plain": [
       "<matplotlib.figure.Figure at 0x10689e310>"
      ]
     },
     "metadata": {},
     "output_type": "display_data"
    },
    {
     "name": "stdout",
     "output_type": "stream",
     "text": [
      "The initial state of X is : [-1, -1, -1]\n",
      "found a solution: [0, 2, 4]\n",
      "found a solution: [0, 2, 5]\n",
      "found a solution: [0, 4, 2]\n",
      "found a solution: [0, 5, 2]\n",
      "found a solution: [2, 0, 4]\n",
      "found a solution: [2, 0, 5]\n",
      "found a solution: [2, 3, 4]\n",
      "found a solution: [2, 4, 0]\n",
      "found a solution: [2, 4, 3]\n",
      "found a solution: [2, 5, 0]\n",
      "found a solution: [3, 2, 4]\n",
      "found a solution: [3, 4, 2]\n",
      "found a solution: [4, 0, 2]\n",
      "found a solution: [4, 2, 0]\n",
      "found a solution: [4, 2, 3]\n",
      "found a solution: [4, 3, 2]\n",
      "found a solution: [5, 0, 2]\n",
      "found a solution: [5, 2, 0]\n"
     ]
    }
   ],
   "source": [
    "### Backtracking\n",
    "import numpy as np\n",
    "\n",
    "r=0     #r is the tree level, or index of X. \n",
    "X=[]     #X represent one instance of a Hamiltonian cycle in the graph \n",
    "a0=-1    # this is an initial value for elements of X. pick something that tells\n",
    "         #       this element has not been assigned yet\n",
    "N = int(raw_input(\"Enter the total number of nodes in the Graph: \"))  # Size of the array. change based on your problem \n",
    "K = int(raw_input(\"Enter K, the size of K cliques: \"))\n",
    "ADJ = loadADJ(N)        # this function creates an ADJ matric from a txt file\n",
    "\n",
    "\n",
    "for i in range(0,K):\n",
    "    X.append(a0)\n",
    "    \n",
    "print \"The initial state of X is : \" + str(X)\n",
    "found = False\n",
    "    \n",
    "while r>-1:\n",
    "    getNext(X,r,N)\n",
    "    if (X[r]==a0):\n",
    "        r=r-1\n",
    "    elif r==K-1:\n",
    "        print \"found a solution: \" + str(X)\n",
    "        found = True\n",
    "    else:\n",
    "        r=r+1\n",
    "\n",
    "if not found:\n",
    "    print \"This graph has no k-cliques.\""
   ]
  },
  {
   "cell_type": "code",
   "execution_count": null,
   "metadata": {
    "collapsed": true
   },
   "outputs": [],
   "source": []
  }
 ],
 "metadata": {
  "kernelspec": {
   "display_name": "Python 2",
   "language": "python",
   "name": "python2"
  },
  "language_info": {
   "codemirror_mode": {
    "name": "ipython",
    "version": 2
   },
   "file_extension": ".py",
   "mimetype": "text/x-python",
   "name": "python",
   "nbconvert_exporter": "python",
   "pygments_lexer": "ipython2",
   "version": "2.7.11"
  }
 },
 "nbformat": 4,
 "nbformat_minor": 0
}
