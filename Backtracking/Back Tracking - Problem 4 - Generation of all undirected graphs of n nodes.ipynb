{
 "cells": [
  {
   "cell_type": "markdown",
   "metadata": {},
   "source": [
    "**II. Formulation of the Problem of Generating Combinatorial Objects**\n",
    "\n",
    "In most of the generation problems, we have:\n",
    "\n",
    "Each object (can be?) is represented by an array X[1:N]\n",
    "\n",
    "The elements of the array are taken from a domain S={a1,a2,...,am}. Often, S is a finite set of successive integers.\n",
    "\n",
    "The values of array X must satisfy some constraints C so that X represents a legitimate object of the type in question.\n",
    "\n",
    "We will show the specifics in each of the following instances of combinatorial object generation"
   ]
  },
  {
   "cell_type": "markdown",
   "metadata": {},
   "source": [
    "**Problem 4: Generation of all undirected graphs of n nodes**\n",
    "\n",
    "* Every graph of n nodes is also representable by the 2D adjacency matrix A[1:n,1:n].\n",
    "* The values of the entries in the array are binary but are not independent of one another: A[i,j] = A[j,i] for all i and j\n",
    "* Which is the symmetry contraint (or property)\n",
    "* The 2D array can be represented by a a 1D binary array X[1:N] where N=n2, like in the case of directed graphs, but this time with the symmetry constraint.\n",
    "* A preferable alternative is to only represent the upper triangle only, and thus eliminate the constraints as follows.\n",
    "* Map the upper triangle of A into a 1D binary array X[1:N], N=n(n-1)/2:\n",
    "*  A[1,2:n] goes first into X \n",
    "*  A[2,3:n] goes next into X \n",
    "*  A[3,4:n] goes next into X \n",
    "*  .\t\n",
    "*  .\t\n",
    "*  .\t\n",
    "*  A[n-1,n] goes last into X\n",
    "* The value of each X[i] is in {0,1}\n",
    "* The constraints C are back to being empty.\n"
   ]
  },
  {
   "cell_type": "code",
   "execution_count": 4,
   "metadata": {
    "collapsed": true
   },
   "outputs": [],
   "source": [
    "def Bound(X,r):\n",
    "    return True"
   ]
  },
  {
   "cell_type": "code",
   "execution_count": 5,
   "metadata": {
    "collapsed": true
   },
   "outputs": [],
   "source": [
    "def getNext(X,r):\n",
    "    X[r]=X[r]+1\n",
    "    while X[r] <=99:  #while X[r] is in domian. here is less than 99. customize for your problem\n",
    "        if Bound(X,r)==True :\n",
    "            return\n",
    "        else:\n",
    "            X[r]=X[r] +1 \n",
    "    \n",
    "    X[r]=a0"
   ]
  },
  {
   "cell_type": "code",
   "execution_count": 6,
   "metadata": {
    "collapsed": false
   },
   "outputs": [
    {
     "name": "stdout",
     "output_type": "stream",
     "text": [
      "The initial state of X is : [-1, -1, -1, -1, -1, -1, -1, -1, -1, -1]\n"
     ]
    },
    {
     "ename": "IndexError",
     "evalue": "list index out of range",
     "output_type": "error",
     "traceback": [
      "\u001b[0;31m---------------------------------------------------------------------------\u001b[0m",
      "\u001b[0;31mIndexError\u001b[0m                                Traceback (most recent call last)",
      "\u001b[0;32m<ipython-input-6-d577e0f4ef70>\u001b[0m in \u001b[0;36m<module>\u001b[0;34m()\u001b[0m\n\u001b[1;32m     14\u001b[0m \u001b[0;34m\u001b[0m\u001b[0m\n\u001b[1;32m     15\u001b[0m \u001b[0;32mwhile\u001b[0m \u001b[0mr\u001b[0m\u001b[0;34m>\u001b[0m\u001b[0;36m0\u001b[0m\u001b[0;34m:\u001b[0m\u001b[0;34m\u001b[0m\u001b[0m\n\u001b[0;32m---> 16\u001b[0;31m     \u001b[0mgetNext\u001b[0m\u001b[0;34m(\u001b[0m\u001b[0mX\u001b[0m\u001b[0;34m,\u001b[0m\u001b[0mr\u001b[0m\u001b[0;34m)\u001b[0m\u001b[0;34m\u001b[0m\u001b[0m\n\u001b[0m\u001b[1;32m     17\u001b[0m     \u001b[0;32mif\u001b[0m \u001b[0;34m(\u001b[0m\u001b[0mX\u001b[0m\u001b[0;34m[\u001b[0m\u001b[0mr\u001b[0m\u001b[0;34m]\u001b[0m\u001b[0;34m==\u001b[0m\u001b[0ma0\u001b[0m\u001b[0;34m)\u001b[0m\u001b[0;34m:\u001b[0m\u001b[0;34m\u001b[0m\u001b[0m\n\u001b[1;32m     18\u001b[0m         \u001b[0mr\u001b[0m\u001b[0;34m=\u001b[0m\u001b[0mr\u001b[0m\u001b[0;34m-\u001b[0m\u001b[0;36m1\u001b[0m\u001b[0;34m\u001b[0m\u001b[0m\n",
      "\u001b[0;32m<ipython-input-5-e6d072166d97>\u001b[0m in \u001b[0;36mgetNext\u001b[0;34m(X, r)\u001b[0m\n\u001b[1;32m      1\u001b[0m \u001b[0;32mdef\u001b[0m \u001b[0mgetNext\u001b[0m\u001b[0;34m(\u001b[0m\u001b[0mX\u001b[0m\u001b[0;34m,\u001b[0m\u001b[0mr\u001b[0m\u001b[0;34m)\u001b[0m\u001b[0;34m:\u001b[0m\u001b[0;34m\u001b[0m\u001b[0m\n\u001b[0;32m----> 2\u001b[0;31m     \u001b[0mX\u001b[0m\u001b[0;34m[\u001b[0m\u001b[0mr\u001b[0m\u001b[0;34m]\u001b[0m\u001b[0;34m=\u001b[0m\u001b[0mX\u001b[0m\u001b[0;34m[\u001b[0m\u001b[0mr\u001b[0m\u001b[0;34m]\u001b[0m\u001b[0;34m+\u001b[0m\u001b[0;36m1\u001b[0m\u001b[0;34m\u001b[0m\u001b[0m\n\u001b[0m\u001b[1;32m      3\u001b[0m     \u001b[0;32mwhile\u001b[0m \u001b[0mX\u001b[0m\u001b[0;34m[\u001b[0m\u001b[0mr\u001b[0m\u001b[0;34m]\u001b[0m \u001b[0;34m<=\u001b[0m\u001b[0;36m99\u001b[0m\u001b[0;34m:\u001b[0m  \u001b[0;31m#while X[r] is in domian. here is less than 99. customize for your problem\u001b[0m\u001b[0;34m\u001b[0m\u001b[0m\n\u001b[1;32m      4\u001b[0m         \u001b[0;32mif\u001b[0m \u001b[0mBound\u001b[0m\u001b[0;34m(\u001b[0m\u001b[0mX\u001b[0m\u001b[0;34m,\u001b[0m\u001b[0mr\u001b[0m\u001b[0;34m)\u001b[0m\u001b[0;34m==\u001b[0m\u001b[0mTrue\u001b[0m \u001b[0;34m:\u001b[0m\u001b[0;34m\u001b[0m\u001b[0m\n\u001b[1;32m      5\u001b[0m             \u001b[0;32mreturn\u001b[0m\u001b[0;34m\u001b[0m\u001b[0m\n",
      "\u001b[0;31mIndexError\u001b[0m: list index out of range"
     ]
    }
   ],
   "source": [
    "#Backtracking\n",
    "\n",
    "\n",
    "r=1      #r is the tree level, or index of X. \n",
    "X=[]     #X represent one instance of the permutable object \n",
    "a0=-1    # this is an initial value for elements of X. pick something that tells\n",
    "         #       this element has not been assigned yet\n",
    "N = 10   # Size of the array. change based on your problem    \n",
    "\n",
    "for i in range(0,10):\n",
    "    X.append(a0)\n",
    "    \n",
    "print \"The initial state of X is : \" + str(X)\n",
    "    \n",
    "while r>0:\n",
    "    getNext(X,r)\n",
    "    if (X[r]==a0):\n",
    "        r=r-1\n",
    "    elif r==N:\n",
    "        print \"found a solution: \" + (X)\n",
    "    else:\n",
    "        r=r+1\n",
    "    "
   ]
  },
  {
   "cell_type": "code",
   "execution_count": null,
   "metadata": {
    "collapsed": true
   },
   "outputs": [],
   "source": []
  }
 ],
 "metadata": {
  "kernelspec": {
   "display_name": "Python 2",
   "language": "python",
   "name": "python2"
  },
  "language_info": {
   "codemirror_mode": {
    "name": "ipython",
    "version": 2
   },
   "file_extension": ".py",
   "mimetype": "text/x-python",
   "name": "python",
   "nbconvert_exporter": "python",
   "pygments_lexer": "ipython2",
   "version": "2.7.11"
  }
 },
 "nbformat": 4,
 "nbformat_minor": 0
}
