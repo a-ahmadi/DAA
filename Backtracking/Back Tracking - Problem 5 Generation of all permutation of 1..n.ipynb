{
 "cells": [
  {
   "cell_type": "markdown",
   "metadata": {},
   "source": [
    "**II. Formulation of the Problem of Generating Combinatorial Objects**\n",
    "\n",
    "In most of the generation problems, we have:\n",
    "\n",
    "Each object (can be?) is represented by an array X[1:N]\n",
    "\n",
    "The elements of the array are taken from a domain S={a1,a2,...,am}. Often, S is a finite set of successive integers.\n",
    "\n",
    "The values of array X must satisfy some constraints C so that X represents a legitimate object of the type in question.\n",
    "\n",
    "We will show the specifics in each of the following instances of combinatorial object generation"
   ]
  },
  {
   "cell_type": "markdown",
   "metadata": {},
   "source": [
    "**Problem 5: Generation of all permutations of {1,2,...,n}**\n",
    "\n",
    "A permutation is a one-to-one and onto mapping (function) f from {1,2,...,n} to {1,2,...,n}. The mapping of element i is denoted f(i).\n",
    "Another definition: A permutation is a re-ordering (re-arrangement) of the elements 1,2,...,n\n",
    "A third defintion: A permutation is a one-to-one matching. i is said to be matched with f(i).\n",
    "A permutation f can be represented by an array X[1:n] where X[i]=f(i).\n",
    "X[i] takes its elements from {1,2,...,n}\n",
    "Constraints: X[i] != X[j] for all i != j"
   ]
  },
  {
   "cell_type": "code",
   "execution_count": 1,
   "metadata": {
    "collapsed": true
   },
   "outputs": [],
   "source": [
    "def Bound(X,r):\n",
    "    for i in range(0,r):\n",
    "        if X[i]==X[r]:\n",
    "            return False\n",
    "    return True"
   ]
  },
  {
   "cell_type": "code",
   "execution_count": 2,
   "metadata": {
    "collapsed": true
   },
   "outputs": [],
   "source": [
    "def getNext(X,r):\n",
    "    X[r]=X[r]+1\n",
    "    while X[r] <=N:  #while X[r] is in domian. Here possible values are 1 .. 9\n",
    "        if Bound(X,r)==True :\n",
    "            return\n",
    "        else:\n",
    "            X[r]=X[r] +1 \n",
    "    \n",
    "    X[r]=a0\n",
    "    "
   ]
  },
  {
   "cell_type": "code",
   "execution_count": 3,
   "metadata": {
    "collapsed": false
   },
   "outputs": [
    {
     "name": "stdout",
     "output_type": "stream",
     "text": [
      "Enter N : 4\n",
      "The initial state of X is : [0, 0, 0, 0]\n",
      "found a solution: [1, 2, 3, 4]\n",
      "found a solution: [1, 2, 4, 3]\n",
      "found a solution: [1, 3, 2, 4]\n",
      "found a solution: [1, 3, 4, 2]\n",
      "found a solution: [1, 4, 2, 3]\n",
      "found a solution: [1, 4, 3, 2]\n",
      "found a solution: [2, 1, 3, 4]\n",
      "found a solution: [2, 1, 4, 3]\n",
      "found a solution: [2, 3, 1, 4]\n",
      "found a solution: [2, 3, 4, 1]\n",
      "found a solution: [2, 4, 1, 3]\n",
      "found a solution: [2, 4, 3, 1]\n",
      "found a solution: [3, 1, 2, 4]\n",
      "found a solution: [3, 1, 4, 2]\n",
      "found a solution: [3, 2, 1, 4]\n",
      "found a solution: [3, 2, 4, 1]\n",
      "found a solution: [3, 4, 1, 2]\n",
      "found a solution: [3, 4, 2, 1]\n",
      "found a solution: [4, 1, 2, 3]\n",
      "found a solution: [4, 1, 3, 2]\n",
      "found a solution: [4, 2, 1, 3]\n",
      "found a solution: [4, 2, 3, 1]\n",
      "found a solution: [4, 3, 1, 2]\n",
      "found a solution: [4, 3, 2, 1]\n",
      "total solutions found : 24\n"
     ]
    }
   ],
   "source": [
    "#Backtracking\n",
    "r=0      #r is the tree level, or index of X. \n",
    "X=[]     #X represent one instance of the permutable object \n",
    "a0=0    # this is an initial value for elements of X. pick something that tells\n",
    "         #       this element has not been assigned yet\n",
    "N = int(raw_input(\"Enter N : \"))   # Size of the array. change based on your problem    \n",
    "count =0\n",
    "\n",
    "for i in range(0,N):\n",
    "    X.append(a0)\n",
    "    \n",
    "print \"The initial state of X is : \" + str(X)\n",
    "    \n",
    "while r>-1:\n",
    "    getNext(X,r)\n",
    "    if (X[r]==a0):\n",
    "        r=r-1\n",
    "    elif r==N-1:\n",
    "        print \"found a solution: \" + str(X)\n",
    "        count+=1\n",
    "    else:\n",
    "        r=r+1\n",
    "print \"total solutions found : \" + str(count)    "
   ]
  },
  {
   "cell_type": "code",
   "execution_count": null,
   "metadata": {
    "collapsed": true
   },
   "outputs": [],
   "source": []
  }
 ],
 "metadata": {
  "kernelspec": {
   "display_name": "Python 2",
   "language": "python",
   "name": "python2"
  },
  "language_info": {
   "codemirror_mode": {
    "name": "ipython",
    "version": 2
   },
   "file_extension": ".py",
   "mimetype": "text/x-python",
   "name": "python",
   "nbconvert_exporter": "python",
   "pygments_lexer": "ipython2",
   "version": "2.7.11"
  }
 },
 "nbformat": 4,
 "nbformat_minor": 0
}
